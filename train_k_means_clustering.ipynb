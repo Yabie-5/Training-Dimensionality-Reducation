{
 "cells": [
  {
   "cell_type": "markdown",
   "metadata": {},
   "source": [
    "**k-平均法**\n",
    "\n",
    "1. 人間側がクラスター(グループ)の数をきめる。\n",
    "\n",
    "2. ランダムに振られた点(重心)から近いものをクラスターとする。\n",
    "\n",
    "3. 紐づいたクラスターとの距離をもとに重心を移動させる。\n",
    "\n"
   ]
  },
  {
   "cell_type": "code",
   "execution_count": 68,
   "metadata": {},
   "outputs": [],
   "source": [
    "import pandas as pd\n",
    "import numpy as np"
   ]
  },
  {
   "cell_type": "code",
   "execution_count": 69,
   "metadata": {},
   "outputs": [
    {
     "data": {
      "text/html": [
       "<div>\n",
       "<style scoped>\n",
       "    .dataframe tbody tr th:only-of-type {\n",
       "        vertical-align: middle;\n",
       "    }\n",
       "\n",
       "    .dataframe tbody tr th {\n",
       "        vertical-align: top;\n",
       "    }\n",
       "\n",
       "    .dataframe thead th {\n",
       "        text-align: right;\n",
       "    }\n",
       "</style>\n",
       "<table border=\"1\" class=\"dataframe\">\n",
       "  <thead>\n",
       "    <tr style=\"text-align: right;\">\n",
       "      <th></th>\n",
       "      <th>No</th>\n",
       "      <th>弁当・麺類</th>\n",
       "      <th>飲料</th>\n",
       "      <th>おにぎり・サンドイッチ</th>\n",
       "      <th>スイーツ</th>\n",
       "      <th>カップスープ</th>\n",
       "      <th>サラダ</th>\n",
       "    </tr>\n",
       "  </thead>\n",
       "  <tbody>\n",
       "    <tr>\n",
       "      <th>0</th>\n",
       "      <td>1</td>\n",
       "      <td>25350</td>\n",
       "      <td>3650</td>\n",
       "      <td>8945</td>\n",
       "      <td>0</td>\n",
       "      <td>4867</td>\n",
       "      <td>8945</td>\n",
       "    </tr>\n",
       "    <tr>\n",
       "      <th>1</th>\n",
       "      <td>2</td>\n",
       "      <td>24500</td>\n",
       "      <td>0</td>\n",
       "      <td>0</td>\n",
       "      <td>1827</td>\n",
       "      <td>0</td>\n",
       "      <td>0</td>\n",
       "    </tr>\n",
       "    <tr>\n",
       "      <th>2</th>\n",
       "      <td>3</td>\n",
       "      <td>23050</td>\n",
       "      <td>5750</td>\n",
       "      <td>11570</td>\n",
       "      <td>0</td>\n",
       "      <td>7667</td>\n",
       "      <td>11570</td>\n",
       "    </tr>\n",
       "    <tr>\n",
       "      <th>3</th>\n",
       "      <td>4</td>\n",
       "      <td>22850</td>\n",
       "      <td>4100</td>\n",
       "      <td>10145</td>\n",
       "      <td>0</td>\n",
       "      <td>5467</td>\n",
       "      <td>10145</td>\n",
       "    </tr>\n",
       "    <tr>\n",
       "      <th>4</th>\n",
       "      <td>5</td>\n",
       "      <td>22500</td>\n",
       "      <td>0</td>\n",
       "      <td>0</td>\n",
       "      <td>0</td>\n",
       "      <td>0</td>\n",
       "      <td>0</td>\n",
       "    </tr>\n",
       "  </tbody>\n",
       "</table>\n",
       "</div>"
      ],
      "text/plain": [
       "   No  弁当・麺類    飲料  おにぎり・サンドイッチ  スイーツ  カップスープ    サラダ\n",
       "0   1  25350  3650         8945     0    4867   8945\n",
       "1   2  24500     0            0  1827       0      0\n",
       "2   3  23050  5750        11570     0    7667  11570\n",
       "3   4  22850  4100        10145     0    5467  10145\n",
       "4   5  22500     0            0     0       0      0"
      ]
     },
     "execution_count": 69,
     "metadata": {},
     "output_type": "execute_result"
    }
   ],
   "source": [
    "df = pd.read_csv(\"convinience_store.csv\")\n",
    "df.head()"
   ]
  },
  {
   "cell_type": "code",
   "execution_count": 70,
   "metadata": {},
   "outputs": [
    {
     "data": {
      "text/plain": [
       "array([[25350,  3650,  8945,     0,  4867,  8945],\n",
       "       [24500,     0,     0,  1827,     0,     0],\n",
       "       [23050,  5750, 11570,     0,  7667, 11570]])"
      ]
     },
     "execution_count": 70,
     "metadata": {},
     "output_type": "execute_result"
    }
   ],
   "source": [
    "x=df.drop('No', axis=1).values\n",
    "x[:3]"
   ]
  },
  {
   "cell_type": "code",
   "execution_count": 71,
   "metadata": {},
   "outputs": [],
   "source": [
    "from sklearn.cluster import KMeans"
   ]
  },
  {
   "cell_type": "markdown",
   "metadata": {},
   "source": [
    "- k-平均法では、予め分割するクラスター数を決めておく必要がある。\n",
    "\n",
    "- クラスター数を決定するハイパーパラメータは**n_clusters**になる。"
   ]
  },
  {
   "cell_type": "code",
   "execution_count": 72,
   "metadata": {},
   "outputs": [
    {
     "data": {
      "text/plain": [
       "KMeans(n_clusters=3, random_state=0)"
      ]
     },
     "execution_count": 72,
     "metadata": {},
     "output_type": "execute_result"
    }
   ],
   "source": [
    "kmeans=KMeans(n_clusters=3, random_state=0)\n",
    "kmeans.fit(x)"
   ]
  },
  {
   "cell_type": "markdown",
   "metadata": {},
   "source": [
    "- .cluster_center_ で各クラスターの重心(中心の座標)を表示できる。\n",
    "\n",
    "- 今回はデータセットの次元数が6次元、クラスターの数は3のため、3行6列の値を確認できる。"
   ]
  },
  {
   "cell_type": "code",
   "execution_count": 73,
   "metadata": {},
   "outputs": [
    {
     "data": {
      "text/plain": [
       "array([[ 5043.5483871 ,  3486.41935484,  7017.74193548,  2206.        ,\n",
       "         2512.90322581,  3509.12903226],\n",
       "       [28681.25      ,  5637.66666667,  1298.75      ,  1271.        ,\n",
       "         1770.875     ,   716.95833333],\n",
       "       [17266.66666667,  2730.93333333, 10721.66666667,   590.86666667,\n",
       "         3447.33333333,  9851.2       ]])"
      ]
     },
     "execution_count": 73,
     "metadata": {},
     "output_type": "execute_result"
    }
   ],
   "source": [
    "kmeans.cluster_centers_"
   ]
  },
  {
   "cell_type": "code",
   "execution_count": 74,
   "metadata": {},
   "outputs": [
    {
     "data": {
      "text/plain": [
       "array([2, 1, 2, 2, 1, 2, 1, 1, 1, 2, 1, 2, 2, 1, 2, 2, 2, 2, 0, 2, 2, 0,\n",
       "       2, 2, 0, 0, 0, 0, 0, 0, 0, 0, 0, 0, 0, 0, 0, 0, 0, 0, 0, 0, 0, 0,\n",
       "       0, 0, 0, 0, 0, 0, 0, 0, 0, 1, 1, 1, 1, 1, 1, 1, 1, 1, 1, 1, 1, 1,\n",
       "       1, 1, 1, 1], dtype=int32)"
      ]
     },
     "execution_count": 74,
     "metadata": {},
     "output_type": "execute_result"
    }
   ],
   "source": [
    "cluster = kmeans.predict(x)\n",
    "cluster"
   ]
  },
  {
   "cell_type": "code",
   "execution_count": 75,
   "metadata": {},
   "outputs": [],
   "source": [
    "df_cluster=df.copy()\n",
    "df_cluster['cluster'] = cluster"
   ]
  },
  {
   "cell_type": "code",
   "execution_count": 76,
   "metadata": {},
   "outputs": [
    {
     "data": {
      "text/html": [
       "<div>\n",
       "<style scoped>\n",
       "    .dataframe tbody tr th:only-of-type {\n",
       "        vertical-align: middle;\n",
       "    }\n",
       "\n",
       "    .dataframe tbody tr th {\n",
       "        vertical-align: top;\n",
       "    }\n",
       "\n",
       "    .dataframe thead th {\n",
       "        text-align: right;\n",
       "    }\n",
       "</style>\n",
       "<table border=\"1\" class=\"dataframe\">\n",
       "  <thead>\n",
       "    <tr style=\"text-align: right;\">\n",
       "      <th></th>\n",
       "      <th>No</th>\n",
       "      <th>弁当・麺類</th>\n",
       "      <th>飲料</th>\n",
       "      <th>おにぎり・サンドイッチ</th>\n",
       "      <th>スイーツ</th>\n",
       "      <th>カップスープ</th>\n",
       "      <th>サラダ</th>\n",
       "      <th>cluster</th>\n",
       "    </tr>\n",
       "  </thead>\n",
       "  <tbody>\n",
       "    <tr>\n",
       "      <th>0</th>\n",
       "      <td>1</td>\n",
       "      <td>25350</td>\n",
       "      <td>3650</td>\n",
       "      <td>8945</td>\n",
       "      <td>0</td>\n",
       "      <td>4867</td>\n",
       "      <td>8945</td>\n",
       "      <td>2</td>\n",
       "    </tr>\n",
       "    <tr>\n",
       "      <th>1</th>\n",
       "      <td>2</td>\n",
       "      <td>24500</td>\n",
       "      <td>0</td>\n",
       "      <td>0</td>\n",
       "      <td>1827</td>\n",
       "      <td>0</td>\n",
       "      <td>0</td>\n",
       "      <td>1</td>\n",
       "    </tr>\n",
       "    <tr>\n",
       "      <th>2</th>\n",
       "      <td>3</td>\n",
       "      <td>23050</td>\n",
       "      <td>5750</td>\n",
       "      <td>11570</td>\n",
       "      <td>0</td>\n",
       "      <td>7667</td>\n",
       "      <td>11570</td>\n",
       "      <td>2</td>\n",
       "    </tr>\n",
       "    <tr>\n",
       "      <th>3</th>\n",
       "      <td>4</td>\n",
       "      <td>22850</td>\n",
       "      <td>4100</td>\n",
       "      <td>10145</td>\n",
       "      <td>0</td>\n",
       "      <td>5467</td>\n",
       "      <td>10145</td>\n",
       "      <td>2</td>\n",
       "    </tr>\n",
       "    <tr>\n",
       "      <th>4</th>\n",
       "      <td>5</td>\n",
       "      <td>22500</td>\n",
       "      <td>0</td>\n",
       "      <td>0</td>\n",
       "      <td>0</td>\n",
       "      <td>0</td>\n",
       "      <td>0</td>\n",
       "      <td>1</td>\n",
       "    </tr>\n",
       "  </tbody>\n",
       "</table>\n",
       "</div>"
      ],
      "text/plain": [
       "   No  弁当・麺類    飲料  おにぎり・サンドイッチ  スイーツ  カップスープ    サラダ  cluster\n",
       "0   1  25350  3650         8945     0    4867   8945        2\n",
       "1   2  24500     0            0  1827       0      0        1\n",
       "2   3  23050  5750        11570     0    7667  11570        2\n",
       "3   4  22850  4100        10145     0    5467  10145        2\n",
       "4   5  22500     0            0     0       0      0        1"
      ]
     },
     "execution_count": 76,
     "metadata": {},
     "output_type": "execute_result"
    }
   ],
   "source": [
    "df_cluster.head()"
   ]
  },
  {
   "cell_type": "markdown",
   "metadata": {},
   "source": [
    "**クラスター結果の考察**\n",
    "\n",
    "- 予測結果をどう使うかは人間が考慮するべき。\n"
   ]
  },
  {
   "cell_type": "markdown",
   "metadata": {},
   "source": [
    "- 今回は、各クラスターの平均購買金額から考察する。"
   ]
  },
  {
   "cell_type": "code",
   "execution_count": 77,
   "metadata": {},
   "outputs": [],
   "source": [
    "df_results = pd.DataFrame()"
   ]
  },
  {
   "cell_type": "code",
   "execution_count": 78,
   "metadata": {},
   "outputs": [
    {
     "data": {
      "text/plain": [
       "[37.806451612903224,\n",
       " 5043.548387096775,\n",
       " 3486.4193548387098,\n",
       " 7017.741935483871,\n",
       " 2206.0,\n",
       " 2512.9032258064517,\n",
       " 3509.1290322580644,\n",
       " 0.0]"
      ]
     },
     "execution_count": 78,
     "metadata": {},
     "output_type": "execute_result"
    }
   ],
   "source": [
    "df_cluster[df_cluster[\"cluster\"]==0].mean().tolist()"
   ]
  },
  {
   "cell_type": "code",
   "execution_count": 79,
   "metadata": {},
   "outputs": [
    {
     "data": {
      "text/html": [
       "<div>\n",
       "<style scoped>\n",
       "    .dataframe tbody tr th:only-of-type {\n",
       "        vertical-align: middle;\n",
       "    }\n",
       "\n",
       "    .dataframe tbody tr th {\n",
       "        vertical-align: top;\n",
       "    }\n",
       "\n",
       "    .dataframe thead th {\n",
       "        text-align: right;\n",
       "    }\n",
       "</style>\n",
       "<table border=\"1\" class=\"dataframe\">\n",
       "  <thead>\n",
       "    <tr style=\"text-align: right;\">\n",
       "      <th></th>\n",
       "      <th>cluster0</th>\n",
       "      <th>cluster1</th>\n",
       "      <th>cluster2</th>\n",
       "    </tr>\n",
       "  </thead>\n",
       "  <tbody>\n",
       "    <tr>\n",
       "      <th>0</th>\n",
       "      <td>37.806452</td>\n",
       "      <td>46.250000</td>\n",
       "      <td>13.533333</td>\n",
       "    </tr>\n",
       "    <tr>\n",
       "      <th>1</th>\n",
       "      <td>5043.548387</td>\n",
       "      <td>28681.250000</td>\n",
       "      <td>17266.666667</td>\n",
       "    </tr>\n",
       "    <tr>\n",
       "      <th>2</th>\n",
       "      <td>3486.419355</td>\n",
       "      <td>5637.666667</td>\n",
       "      <td>2730.933333</td>\n",
       "    </tr>\n",
       "    <tr>\n",
       "      <th>3</th>\n",
       "      <td>7017.741935</td>\n",
       "      <td>1298.750000</td>\n",
       "      <td>10721.666667</td>\n",
       "    </tr>\n",
       "    <tr>\n",
       "      <th>4</th>\n",
       "      <td>2206.000000</td>\n",
       "      <td>1271.000000</td>\n",
       "      <td>590.866667</td>\n",
       "    </tr>\n",
       "    <tr>\n",
       "      <th>5</th>\n",
       "      <td>2512.903226</td>\n",
       "      <td>1770.875000</td>\n",
       "      <td>3447.333333</td>\n",
       "    </tr>\n",
       "    <tr>\n",
       "      <th>6</th>\n",
       "      <td>3509.129032</td>\n",
       "      <td>716.958333</td>\n",
       "      <td>9851.200000</td>\n",
       "    </tr>\n",
       "    <tr>\n",
       "      <th>7</th>\n",
       "      <td>0.000000</td>\n",
       "      <td>1.000000</td>\n",
       "      <td>2.000000</td>\n",
       "    </tr>\n",
       "  </tbody>\n",
       "</table>\n",
       "</div>"
      ],
      "text/plain": [
       "      cluster0      cluster1      cluster2\n",
       "0    37.806452     46.250000     13.533333\n",
       "1  5043.548387  28681.250000  17266.666667\n",
       "2  3486.419355   5637.666667   2730.933333\n",
       "3  7017.741935   1298.750000  10721.666667\n",
       "4  2206.000000   1271.000000    590.866667\n",
       "5  2512.903226   1770.875000   3447.333333\n",
       "6  3509.129032    716.958333   9851.200000\n",
       "7     0.000000      1.000000      2.000000"
      ]
     },
     "execution_count": 79,
     "metadata": {},
     "output_type": "execute_result"
    }
   ],
   "source": [
    "df_results[\"cluster0\"]=df_cluster[df_cluster[\"cluster\"]==0].mean().tolist()\n",
    "df_results[\"cluster1\"]=df_cluster[df_cluster[\"cluster\"]==1].mean().tolist()\n",
    "df_results[\"cluster2\"]=df_cluster[df_cluster[\"cluster\"]==2].mean().tolist()\n",
    "df_results"
   ]
  },
  {
   "cell_type": "code",
   "execution_count": 80,
   "metadata": {},
   "outputs": [
    {
     "data": {
      "text/html": [
       "<div>\n",
       "<style scoped>\n",
       "    .dataframe tbody tr th:only-of-type {\n",
       "        vertical-align: middle;\n",
       "    }\n",
       "\n",
       "    .dataframe tbody tr th {\n",
       "        vertical-align: top;\n",
       "    }\n",
       "\n",
       "    .dataframe thead th {\n",
       "        text-align: right;\n",
       "    }\n",
       "</style>\n",
       "<table border=\"1\" class=\"dataframe\">\n",
       "  <thead>\n",
       "    <tr style=\"text-align: right;\">\n",
       "      <th></th>\n",
       "      <th>cluster0</th>\n",
       "      <th>cluster1</th>\n",
       "      <th>cluster2</th>\n",
       "    </tr>\n",
       "  </thead>\n",
       "  <tbody>\n",
       "    <tr>\n",
       "      <th>No</th>\n",
       "      <td>37.806452</td>\n",
       "      <td>46.250000</td>\n",
       "      <td>13.533333</td>\n",
       "    </tr>\n",
       "    <tr>\n",
       "      <th>弁当・麺類</th>\n",
       "      <td>5043.548387</td>\n",
       "      <td>28681.250000</td>\n",
       "      <td>17266.666667</td>\n",
       "    </tr>\n",
       "    <tr>\n",
       "      <th>飲料</th>\n",
       "      <td>3486.419355</td>\n",
       "      <td>5637.666667</td>\n",
       "      <td>2730.933333</td>\n",
       "    </tr>\n",
       "    <tr>\n",
       "      <th>おにぎり・サンドイッチ</th>\n",
       "      <td>7017.741935</td>\n",
       "      <td>1298.750000</td>\n",
       "      <td>10721.666667</td>\n",
       "    </tr>\n",
       "    <tr>\n",
       "      <th>スイーツ</th>\n",
       "      <td>2206.000000</td>\n",
       "      <td>1271.000000</td>\n",
       "      <td>590.866667</td>\n",
       "    </tr>\n",
       "    <tr>\n",
       "      <th>カップスープ</th>\n",
       "      <td>2512.903226</td>\n",
       "      <td>1770.875000</td>\n",
       "      <td>3447.333333</td>\n",
       "    </tr>\n",
       "    <tr>\n",
       "      <th>サラダ</th>\n",
       "      <td>3509.129032</td>\n",
       "      <td>716.958333</td>\n",
       "      <td>9851.200000</td>\n",
       "    </tr>\n",
       "    <tr>\n",
       "      <th>cluster</th>\n",
       "      <td>0.000000</td>\n",
       "      <td>1.000000</td>\n",
       "      <td>2.000000</td>\n",
       "    </tr>\n",
       "  </tbody>\n",
       "</table>\n",
       "</div>"
      ],
      "text/plain": [
       "                cluster0      cluster1      cluster2\n",
       "No             37.806452     46.250000     13.533333\n",
       "弁当・麺類        5043.548387  28681.250000  17266.666667\n",
       "飲料           3486.419355   5637.666667   2730.933333\n",
       "おにぎり・サンドイッチ  7017.741935   1298.750000  10721.666667\n",
       "スイーツ         2206.000000   1271.000000    590.866667\n",
       "カップスープ       2512.903226   1770.875000   3447.333333\n",
       "サラダ          3509.129032    716.958333   9851.200000\n",
       "cluster         0.000000      1.000000      2.000000"
      ]
     },
     "execution_count": 80,
     "metadata": {},
     "output_type": "execute_result"
    }
   ],
   "source": [
    "df_results=df_results.set_index(df_cluster.columns)\n",
    "df_results"
   ]
  },
  {
   "cell_type": "code",
   "execution_count": 81,
   "metadata": {},
   "outputs": [
    {
     "data": {
      "text/html": [
       "<div>\n",
       "<style scoped>\n",
       "    .dataframe tbody tr th:only-of-type {\n",
       "        vertical-align: middle;\n",
       "    }\n",
       "\n",
       "    .dataframe tbody tr th {\n",
       "        vertical-align: top;\n",
       "    }\n",
       "\n",
       "    .dataframe thead th {\n",
       "        text-align: right;\n",
       "    }\n",
       "</style>\n",
       "<table border=\"1\" class=\"dataframe\">\n",
       "  <thead>\n",
       "    <tr style=\"text-align: right;\">\n",
       "      <th></th>\n",
       "      <th>弁当・麺類</th>\n",
       "      <th>飲料</th>\n",
       "      <th>おにぎり・サンドイッチ</th>\n",
       "      <th>スイーツ</th>\n",
       "      <th>カップスープ</th>\n",
       "      <th>サラダ</th>\n",
       "    </tr>\n",
       "  </thead>\n",
       "  <tbody>\n",
       "    <tr>\n",
       "      <th>cluster0</th>\n",
       "      <td>5043.548387</td>\n",
       "      <td>3486.419355</td>\n",
       "      <td>7017.741935</td>\n",
       "      <td>2206.000000</td>\n",
       "      <td>2512.903226</td>\n",
       "      <td>3509.129032</td>\n",
       "    </tr>\n",
       "    <tr>\n",
       "      <th>cluster1</th>\n",
       "      <td>28681.250000</td>\n",
       "      <td>5637.666667</td>\n",
       "      <td>1298.750000</td>\n",
       "      <td>1271.000000</td>\n",
       "      <td>1770.875000</td>\n",
       "      <td>716.958333</td>\n",
       "    </tr>\n",
       "    <tr>\n",
       "      <th>cluster2</th>\n",
       "      <td>17266.666667</td>\n",
       "      <td>2730.933333</td>\n",
       "      <td>10721.666667</td>\n",
       "      <td>590.866667</td>\n",
       "      <td>3447.333333</td>\n",
       "      <td>9851.200000</td>\n",
       "    </tr>\n",
       "  </tbody>\n",
       "</table>\n",
       "</div>"
      ],
      "text/plain": [
       "                 弁当・麺類           飲料   おにぎり・サンドイッチ         スイーツ       カップスープ  \\\n",
       "cluster0   5043.548387  3486.419355   7017.741935  2206.000000  2512.903226   \n",
       "cluster1  28681.250000  5637.666667   1298.750000  1271.000000  1770.875000   \n",
       "cluster2  17266.666667  2730.933333  10721.666667   590.866667  3447.333333   \n",
       "\n",
       "                  サラダ  \n",
       "cluster0  3509.129032  \n",
       "cluster1   716.958333  \n",
       "cluster2  9851.200000  "
      ]
     },
     "execution_count": 81,
     "metadata": {},
     "output_type": "execute_result"
    }
   ],
   "source": [
    "df_results=df_results.drop(['No', 'cluster']).T\n",
    "df_results"
   ]
  },
  {
   "cell_type": "code",
   "execution_count": 82,
   "metadata": {},
   "outputs": [
    {
     "data": {
      "text/html": [
       "<div>\n",
       "<style scoped>\n",
       "    .dataframe tbody tr th:only-of-type {\n",
       "        vertical-align: middle;\n",
       "    }\n",
       "\n",
       "    .dataframe tbody tr th {\n",
       "        vertical-align: top;\n",
       "    }\n",
       "\n",
       "    .dataframe thead th {\n",
       "        text-align: right;\n",
       "    }\n",
       "</style>\n",
       "<table border=\"1\" class=\"dataframe\">\n",
       "  <thead>\n",
       "    <tr style=\"text-align: right;\">\n",
       "      <th></th>\n",
       "      <th>弁当・麺類</th>\n",
       "      <th>飲料</th>\n",
       "      <th>おにぎり・サンドイッチ</th>\n",
       "      <th>スイーツ</th>\n",
       "      <th>カップスープ</th>\n",
       "      <th>サラダ</th>\n",
       "    </tr>\n",
       "  </thead>\n",
       "  <tbody>\n",
       "    <tr>\n",
       "      <th>cluster0</th>\n",
       "      <td>5043.548387</td>\n",
       "      <td>3486.419355</td>\n",
       "      <td>7017.741935</td>\n",
       "      <td>2206.000000</td>\n",
       "      <td>2512.903226</td>\n",
       "      <td>3509.129032</td>\n",
       "    </tr>\n",
       "    <tr>\n",
       "      <th>cluster1</th>\n",
       "      <td>28681.250000</td>\n",
       "      <td>5637.666667</td>\n",
       "      <td>1298.750000</td>\n",
       "      <td>1271.000000</td>\n",
       "      <td>1770.875000</td>\n",
       "      <td>716.958333</td>\n",
       "    </tr>\n",
       "    <tr>\n",
       "      <th>cluster2</th>\n",
       "      <td>17266.666667</td>\n",
       "      <td>2730.933333</td>\n",
       "      <td>10721.666667</td>\n",
       "      <td>590.866667</td>\n",
       "      <td>3447.333333</td>\n",
       "      <td>9851.200000</td>\n",
       "    </tr>\n",
       "  </tbody>\n",
       "</table>\n",
       "</div>"
      ],
      "text/plain": [
       "                 弁当・麺類           飲料   おにぎり・サンドイッチ         スイーツ       カップスープ  \\\n",
       "cluster0   5043.548387  3486.419355   7017.741935  2206.000000  2512.903226   \n",
       "cluster1  28681.250000  5637.666667   1298.750000  1271.000000  1770.875000   \n",
       "cluster2  17266.666667  2730.933333  10721.666667   590.866667  3447.333333   \n",
       "\n",
       "                  サラダ  \n",
       "cluster0  3509.129032  \n",
       "cluster1   716.958333  \n",
       "cluster2  9851.200000  "
      ]
     },
     "execution_count": 82,
     "metadata": {},
     "output_type": "execute_result"
    }
   ],
   "source": [
    "df_results"
   ]
  },
  {
   "cell_type": "code",
   "execution_count": null,
   "metadata": {},
   "outputs": [],
   "source": []
  },
  {
   "cell_type": "code",
   "execution_count": null,
   "metadata": {},
   "outputs": [],
   "source": []
  },
  {
   "cell_type": "code",
   "execution_count": null,
   "metadata": {},
   "outputs": [],
   "source": []
  },
  {
   "cell_type": "code",
   "execution_count": null,
   "metadata": {},
   "outputs": [],
   "source": []
  },
  {
   "cell_type": "code",
   "execution_count": null,
   "metadata": {},
   "outputs": [],
   "source": []
  }
 ],
 "metadata": {
  "interpreter": {
   "hash": "3d597f4c481aa0f25dceb95d2a0067e73c0966dcbd003d741d821a7208527ecf"
  },
  "kernelspec": {
   "display_name": "Python 3.7.6 ('base')",
   "language": "python",
   "name": "python3"
  },
  "language_info": {
   "codemirror_mode": {
    "name": "ipython",
    "version": 3
   },
   "file_extension": ".py",
   "mimetype": "text/x-python",
   "name": "python",
   "nbconvert_exporter": "python",
   "pygments_lexer": "ipython3",
   "version": "3.7.6"
  },
  "orig_nbformat": 4
 },
 "nbformat": 4,
 "nbformat_minor": 2
}
